{
  "nbformat": 4,
  "nbformat_minor": 0,
  "metadata": {
    "kernelspec": {
      "display_name": "Python 3",
      "language": "python",
      "name": "python3"
    },
    "language_info": {
      "codemirror_mode": {
        "name": "ipython",
        "version": 3
      },
      "file_extension": ".py",
      "mimetype": "text/x-python",
      "name": "python",
      "nbconvert_exporter": "python",
      "pygments_lexer": "ipython3",
      "version": "3.5.4"
    },
    "toc": {
      "base_numbering": 1,
      "nav_menu": {},
      "number_sections": true,
      "sideBar": true,
      "skip_h1_title": false,
      "title_cell": "Table of Contents",
      "title_sidebar": "Contents",
      "toc_cell": false,
      "toc_position": {},
      "toc_section_display": true,
      "toc_window_display": false
    },
    "colab": {
      "name": "A1_ReportDraft.ipynb",
      "version": "0.3.2",
      "provenance": [],
      "include_colab_link": true
    }
  },
  "cells": [
    {
      "cell_type": "markdown",
      "metadata": {
        "id": "view-in-github",
        "colab_type": "text"
      },
      "source": [
        "<a href=\"https://colab.research.google.com/github/Reasmey/UTS_ML2019_ID10845345/blob/master/A1_ReportFinal.ipynb\" target=\"_parent\"><img src=\"https://colab.research.google.com/assets/colab-badge.svg\" alt=\"Open In Colab\"/></a>"
      ]
    },
    {
      "cell_type": "markdown",
      "metadata": {
        "id": "Dl1lSb8rlsXg",
        "colab_type": "text"
      },
      "source": [
        "# Draft and Experiment Area"
      ]
    },
    {
      "cell_type": "markdown",
      "metadata": {
        "id": "2RPerFo4lsXq",
        "colab_type": "text"
      },
      "source": [
        "1. First impression\n",
        "    * What is my chosen paper to read?\n",
        "    * What type of the main contribution the paper has made?\n",
        "        - A theory or proposition (revealing something, from unknown to known)\n",
        "        - A method or algorithm (inventing a technique, from undoable to doable)\n",
        "\n",
        "    * _Before_ reading the main body of the paper, write down your first impression  obtained from its abstract and short introduction.\n",
        "    * Why does the paper attract you, such as, How it surprised you? Why do you think it addresses an important topic that will be helpful in your future study of machine learning?\n",
        "    \n",
        "2. Read the paper abstract and introduction, list here all the notions that you don't know the precise meaning. If you think you have completed your list,  compare the list with people around you who have chosen the same or a similar paper.\n",
        "\n",
        "3. (During the next 7 days) Re-consider the central problem of the paper."
      ]
    },
    {
      "cell_type": "markdown",
      "metadata": {
        "id": "w2J8HdNZlsXu",
        "colab_type": "text"
      },
      "source": [
        "# Eigenfaces vs. Fisherfaces: Recognition Using Class Specific Linear Projection – A Review Report"
      ]
    },
    {
      "cell_type": "markdown",
      "metadata": {
        "id": "BSXxugK4lsXx",
        "colab_type": "text"
      },
      "source": [
        "*By Reasmey Tith 10845345, AT1 for Advanced Data Algorithms and Analysis SPR 2019.*\n",
        "\n",
        "## Introduction\n",
        "\n",
        "This paper is a critical report on the research paper ‘Eigenfaces vs. Fisherfaces: Recognition using class specific linear projection’ by Belhumeur, Hespanha and Kriegman."
      ]
    },
    {
      "cell_type": "markdown",
      "metadata": {
        "id": "mVIoYOWFlsX0",
        "colab_type": "text"
      },
      "source": [
        "## Content"
      ]
    },
    {
      "cell_type": "markdown",
      "metadata": {
        "id": "M53Nr94tlsX3",
        "colab_type": "text"
      },
      "source": [
        "A new algorithmic approach called ‘Fisherfaces’ for facial recognition was proposed in this research that claimed to perform better than previously existing algorithms. It did this by overcoming sensitivity to lighting variations and facial expressions, which were issues that previous techniques could not account for. The paper begins by explaining the advantages and disadvantages of the existing algorithms, the mathematical theory behind them, and how they are applied to facial recognition. This was followed by an explanation of the approach behind Fisherfaces and how it addresses these issues.\n",
        "\n",
        "The paper compared the performance of three existing algorithms (correlation, Eigenfaces and Linear Subspaces) with Fisherfaces by conducting multiple experiments using two different databases of facial images. The first experiment tested for variations in lighting using a subset of the Harvard Robotics Laboratory database which contained multiple images of a number of people under strictly controlled, varying lighting conditions (330 images of 5 people in total). Extrapolation and interpolation of these images were performed using a nearest neighbour classifier on various combinations of subsets of the database for training and testing. The second experiment used the second database (complied by the researchers) and tested for variation in facial expression, eyewear and lighting conditions. Nearest neighbour classification was used to perform recognition. The third experiment compared PCA with Fisherfaces using the second database to classify two classes, a face with or without glasses. An error rate was main the metric used to determine success in each of the experiments.\n",
        "\n",
        "Overall Fisherfaces performed significantly better than the existing algorithms with lower error rates, especially when faced with varying lighting and facial expressions. Improvements and observations for the three existing methods were also noted, but still did not perform as well as Fisherfaces.\n"
      ]
    },
    {
      "cell_type": "markdown",
      "metadata": {
        "id": "4ok79nWMlsX6",
        "colab_type": "text"
      },
      "source": [
        "## Innovation"
      ]
    },
    {
      "cell_type": "markdown",
      "metadata": {
        "id": "xvMysG91lsX9",
        "colab_type": "text"
      },
      "source": [
        "The algorithm from this research is still widely recognised as one of the key methods in facial recognition technology in the pattern recognition literature [1]. At the time that it was published, no other methods could adequately handle considerable variations in lighting and facial expression. It has since been cited by numerous review papers and text books over numerous years [2][3][4][5]. The research not only provided a new algorithm, but also validated the success of the new algorithm by comparing it to existing, well established methods. A notable advantage is also the decrease in computational power required to perform the Fisherface analysis, especially when reduced processing time means larger samples can be analysed quicker.\n",
        "\n",
        "The researchers characterised skin as a Lambertian surface, which has properties that allow projection of the image to a 3D linear subspace of the original image space under different lighting variations. They combined this projection with established pattern classification techniques (Fisher’s Linear Discriminant (FLD) or Linear Discriminant Analysis (LDA)) to both reduce dimensionality for fast computation whilst retaining class discrimination. Previous techniques such as Eigenfaces used PCA for dimensionality reduction which was effective in that purpose. However, it systematically retained unwanted principal components that captured variation in lighting and expression as important discrimination between classes. The notion used in this paper of capturing variation in faces both between different classes (individuals), and also within the same class (variations in images of the same person) in an algorithm really pushed the boundaries of facial recognition capabilities. \n",
        "\n",
        "This research also paved the way for advancements in more complex facial recognition by combining LDA with Kernel methods for capturing non-linear representations in image pixels [6]. This further enhanced the capability of discrimination by allowing for more features of the face to be utilised. \n",
        "Facial expression recognition techniques also stem from Fisherfaces methodology in modern applications for feature extraction [7].\n"
      ]
    },
    {
      "cell_type": "markdown",
      "metadata": {
        "id": "uWu6fkVFlsYG",
        "colab_type": "text"
      },
      "source": [
        "## Technical quality"
      ]
    },
    {
      "cell_type": "markdown",
      "metadata": {
        "id": "IUHyQpq5lsYK",
        "colab_type": "text"
      },
      "source": [
        "In explaining the robustness of the algorithmic approach to developing the Fisherfaces method, the paper included sufficient mathematical explanation and background knowledge. They adequately justified the theorems in a mathematical sense, but also explain the keys aspects of the theorem in plain English, helping less knowledgeable readers to follow the work. For example, a detailed explanation of PCA in Eigenfaces aids in understanding the method of dealing with singularity of the within-class scatter in Fisherfaces; which is to reduce the matrix to a lower dimension using PCA. For another researcher well versed in the same academic area, they would have enough information to approve the technical components of the paper. The methods of training and testing were sound in that they used appropriate sampling. They also explained how they designed each experiment to test each of their hypotheses in a clear and consistent manner. \n",
        "\n",
        "There isn’t explicit mention of cross validation of the experiment, and the sample size was relatively low for the lighting variation experiment (only 5 people). It would have been advantageous to see whether a more diverse sample i.e. different skin tones had any effect on performance in the more extreme lighting conditions. Knowing the variance in the error rate for each method may have also provided slightly better insight into method performance.\n"
      ]
    },
    {
      "cell_type": "markdown",
      "metadata": {
        "id": "R-nRbc96lsYN",
        "colab_type": "text"
      },
      "source": [
        "## Application and X-factor"
      ]
    },
    {
      "cell_type": "markdown",
      "metadata": {
        "id": "LN0oYQZLlsYQ",
        "colab_type": "text"
      },
      "source": [
        "The application domain for this algorithm was highly specific and was coined Fisherfaces for the purpose of facial recognition. As mentioned previously in Innovation above, many more advanced techniques have been developed stemming from this research [6] [7]. In theory, any surface that is considered Lambertian can be used for image pattern recognition using this method. For example, writings on a piece of paper can be matched to a known database of documents, or images of sandy or snowy landscapes can be used to match to locations as they are considered almost Lambertian surfaces. In fact, research has already transferred to object recognition where Spulak et. al [8] compared PCA, LDA and Fisherfaces using thermal Infra-red images to detect objects in an outdoor environment. This research area is a hot topic in automation of transport i.e. driverless vehicles. The ability to recognise important elements in the environment are key to the success of such technologies. \n",
        "\n",
        "The part of the work that I found most intriguing is how PCA performed so poorly (nearly random chance) compared to the Fisherfaces method in recognising glasses on a face. The power of Fisherfaces comes into light when it is possible to choose the class in which to discriminate i.e. not just faces of individuals, but features of the face. Using PCA only was not applicable in this sense as the technique is independent of class recognition. As mentioned in the conclusion, further research involves trialling the method on large databases of images, and particularly ones where there is only one image of a person in the training sample.\n"
      ]
    },
    {
      "cell_type": "markdown",
      "metadata": {
        "id": "sXIqr-kAlsYT",
        "colab_type": "text"
      },
      "source": [
        "## Presentation"
      ]
    },
    {
      "cell_type": "markdown",
      "metadata": {
        "id": "SklfMaBDlsYY",
        "colab_type": "text"
      },
      "source": [
        "This paper followed sound academic writing convention in that it had appropriate sections to adequately truncate each part of the research process, and flow of ideas and processes were logical. The introduction pointed to a great body of work done before this research; however it could have extended the summary of previous research in order to make a stronger case for the new method. The inclusion of database images to demonstrate the image characteristics were helpful, and all figures and tables were easy to interpret as they were well sized, simply summarised, and clearly captioned. An improvement to the clarity of the paper would be to summarise the examination of the four classification techniques in tabular format as it was somewhat difficult to refer back to certain aspects of each technique when considering the results and conclusions."
      ]
    },
    {
      "cell_type": "markdown",
      "metadata": {
        "id": "rEY09_-4lsYb",
        "colab_type": "text"
      },
      "source": [
        "## References\n",
        "\n",
        "[BEL97][1]:Belhumeur, P.N., Hespanha, J.P. and Kriegman, D.J., 1997. Eigenfaces vs. fisherfaces: Recognition using class specific linear projection. IEEE Transactions on Pattern Analysis & Machine Intelligence, (7), pp.711-720.\n",
        "\n",
        "[1]:https://google.com\n",
        "\n",
        "[ 1 ] Kong, S.G., Heo, J., Abidi, B.R., Paik, J. and Abidi, M.A., 2005. Recent advances in visual and infrared face recognition—a review. Computer Vision and Image Understanding, 97(1), pp.103-135.\n",
        "\n",
        "[ 2 ]   Joshi, J.C. & Gupta, K.K. 2016, \"Face Recognition Technology: A Review\", IUP Journal of Telecommunications, vol. 8, no. 1, pp. 53-63.\n",
        "\n",
        "[ 3 ] Zhao, W., Chellappa, R., Phillips, P.J. and Rosenfeld, A., 2003. Face recognition: A literature survey. ACM computing surveys (CSUR), 35(4), pp.399-458.\n",
        "\n",
        "[ 4 ] Szeliski, R., 2010. Computer vision: algorithms and applications. Springer Science & Business Media.\n",
        "\n",
        "[ 5 ] Witten, I.H., Frank, E., Hall, M.A. and Pal, C.J., 2016. Data Mining: Practical machine learning tools and techniques. Morgan Kaufmann.\n",
        "\n",
        "[ 6 ] Yang, M.H., 2002. Face recognition using kernel methods. In Advances in neural information processing systems (pp. 1457-1464).\n",
        "\n",
        " [ 7] Fasel, B. and Luettin, J., 2003. Automatic facial expression analysis: a survey. Pattern recognition, 36(1), pp.259-275.\n",
        "\n",
        "[ 8 ] Spulak, D., Otrebski, R. and Kubinger, W., 2015. Evaluation of PCA, LDA and Fisherfaces in Appearance-based Object Detection in Thermal Infra-red Images with Incomplete Data. Procedia Engineering, 100, pp.1167-1173.\n"
      ]
    }
  ]
}